{
 "cells": [
  {
   "cell_type": "code",
   "execution_count": 2,
   "metadata": {},
   "outputs": [],
   "source": [
    "from PIL import Image, ImageFilter, ImageEnhance, ImageGrab\n",
    "import os, sys\n",
    "\n",
    "im = Image.open(\"./media/spring.jpg\")"
   ]
  },
  {
   "cell_type": "code",
   "execution_count": 8,
   "metadata": {},
   "outputs": [
    {
     "name": "stdout",
     "output_type": "stream",
     "text": [
      "JPEG (ISO 10918) JPEG (720, 540) RGB\n"
     ]
    },
    {
     "data": {
      "text/plain": [
       "<bound method Image.histogram of <PIL.JpegImagePlugin.JpegImageFile image mode=RGB size=720x540 at 0x109E7E5C0>>"
      ]
     },
     "execution_count": 8,
     "metadata": {},
     "output_type": "execute_result"
    }
   ],
   "source": [
    "print(im.format_description, im.format, im.size, im.mode)\n",
    "im.histogram"
   ]
  },
  {
   "cell_type": "code",
   "execution_count": 73,
   "metadata": {},
   "outputs": [],
   "source": [
    "# open a new window and show the img\n",
    "# im.show()"
   ]
  },
  {
   "cell_type": "code",
   "execution_count": 74,
   "metadata": {},
   "outputs": [],
   "source": [
    "# box defiens left-upper-right-bottom corners\n",
    "box = (100, 100, 300, 300)\n",
    "region = im.crop(box)\n",
    "region.show()"
   ]
  },
  {
   "cell_type": "code",
   "execution_count": 75,
   "metadata": {},
   "outputs": [],
   "source": [
    "region = region.transpose(Image.ROTATE_180)\n",
    "box2 = (0,0,200,200)\n",
    "paste = im\n",
    "paste.paste(region, box2)\n",
    "paste.show()"
   ]
  },
  {
   "cell_type": "code",
   "execution_count": 134,
   "metadata": {},
   "outputs": [],
   "source": [
    "# apply filters to image\n",
    "out = im\n",
    "out0 = out.filter(ImageFilter.DETAIL)\n",
    "out1 = out0.point(lambda i: i*1.2)\n",
    "\n",
    "# split the image into individual bands\n",
    "source = out.split()\n",
    "R,G,B = 0, 1, 2\n",
    "# source[0].show()\n",
    "# source[1].show()\n",
    "# source[2].show()\n",
    "\n",
    "# select regions where red is more than 100\n",
    "mask0 = source[R].point(lambda i: i > 220 and 255)\n",
    "# mask0.show()\n",
    "\n",
    "# process the green band\n",
    "# source[G].show()\n",
    "out2 = source[G].point(lambda i: i + 50)\n",
    "# out2.show()\n",
    "\n",
    "# paste the processed band back, but only where red was more than 100\n",
    "source[G].paste(out2, None, mask0)\n",
    "\n",
    "# build a new multiband image\n",
    "out3 = Image.merge(out.mode, source)\n",
    "out3.show()\n",
    "out3.save(\"./media/out3.jpg\")"
   ]
  },
  {
   "cell_type": "code",
   "execution_count": 132,
   "metadata": {},
   "outputs": [],
   "source": [
    "# ImageEnhance Module\n",
    "enhancer0 = ImageEnhance.Sharpness(im)\n",
    "\n",
    "for i in range(4):\n",
    "    factor = i / 1.0\n",
    "    enhancer0.enhance(factor).show(\"Sharpness %f\" % factor)\n",
    "    \n",
    "# enhancer1 = ImageEnhance.Image(im)\n",
    "# out4 = enh1.enhance(2.3)\n",
    "# out4.show()\n",
    "# .show(\"30% more contrast\")"
   ]
  },
  {
   "cell_type": "code",
   "execution_count": 145,
   "metadata": {},
   "outputs": [],
   "source": [
    "current = ImageGrab.grab()\n",
    "current.format\n",
    "current.save(\"./media/current.png\")"
   ]
  },
  {
   "cell_type": "code",
   "execution_count": null,
   "metadata": {},
   "outputs": [],
   "source": []
  }
 ],
 "metadata": {
  "kernelspec": {
   "display_name": "Python 3",
   "language": "python",
   "name": "python3"
  },
  "language_info": {
   "codemirror_mode": {
    "name": "ipython",
    "version": 3
   },
   "file_extension": ".py",
   "mimetype": "text/x-python",
   "name": "python",
   "nbconvert_exporter": "python",
   "pygments_lexer": "ipython3",
   "version": "3.6.4"
  }
 },
 "nbformat": 4,
 "nbformat_minor": 2
}
